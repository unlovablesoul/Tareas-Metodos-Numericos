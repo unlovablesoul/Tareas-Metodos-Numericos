{
 "cells": [
  {
   "cell_type": "markdown",
   "id": "671095e2",
   "metadata": {},
   "source": [
    "### Tarea 9.6"
   ]
  },
  {
   "cell_type": "markdown",
   "id": "2826cf17",
   "metadata": {},
   "source": [
    "Suponga que la medición de un cierto proceso físico da como resultado la siguiente expresión\n",
    "\n",
    "$$\n",
    "p(x) = \\sin x + n(x)\n",
    "$$\n",
    "\n",
    "donde $n$ es el error experimental que podemos describir como un número aleatorio, para cada valor de $x$, tomado de una distribución gaussiana con media $0$ y desviación estándar $10^{-5}$. Queremos calcular la integral\n",
    "\n",
    "$$\n",
    "\\int_0^1 dx\\,p(x)\\,.\n",
    "$$\n",
    "\n",
    "Use la cuadratura adaptativa para calcular esta integral. El verdadero valor de esta integral es $1-\\cos(1)$. Grafique el error cometido en función de la tolerancia. ¿Se puede lograr una precisión de $10^{-7}$? ¿Qué podemos decir sobre la estabilidad de la cuadratura adaptativa?"
   ]
  },
  {
   "cell_type": "code",
   "execution_count": 97,
   "id": "8b7f8ac5",
   "metadata": {},
   "outputs": [],
   "source": [
    "import numpy as np\n",
    "import matplotlib.pyplot as plt"
   ]
  },
  {
   "cell_type": "code",
   "execution_count": 160,
   "id": "e0149688",
   "metadata": {},
   "outputs": [],
   "source": [
    "class MaxIterations(Exception):\n",
    "    pass\n",
    "\n",
    "def c_adaptativa(f, a, b, tol, N=100000):\n",
    "    # Variables iniciales\n",
    "    approx = 0\n",
    "    i = 0\n",
    "    toli = [10*tol]\n",
    "    ai = [a]\n",
    "    hi = [(b - a)/2]\n",
    "    fai = [f(a)]\n",
    "    fbi = [f(b)]\n",
    "    fci = [f(a + hi[i])]\n",
    "    S0i = [hi[i]*(fai[i] + 4*fci[i] + fbi[i])/3]\n",
    "    Li = [1]\n",
    "    \n",
    "        \n",
    "    \n",
    "    while i >= 0:\n",
    "        \n",
    "        fd = f(ai[i] + hi[i]/2)\n",
    "        fe = f(ai[i] + 3*hi[i]/2)\n",
    "        S1 = hi[i]*(fai[i] + 4*fd + fci[i])/6\n",
    "        S2 = hi[i]*(fci[i] + 4*fe + fbi[i])/6\n",
    "        ai_prec = ai[i]\n",
    "        hi_prec = hi[i]\n",
    "        fai_prec = fai[i]\n",
    "        fbi_prec = fbi[i]\n",
    "        fci_prec = fci[i]\n",
    "        toli_prec = toli[i]\n",
    "        S0i_prec = S0i[i]\n",
    "        Li_prec = Li[i]\n",
    "        \n",
    "        i -= 1\n",
    "        if abs(S1 + S2 - S0i_prec) < toli_prec:\n",
    "            approx += S1 + S2\n",
    "        else:\n",
    "            if Li_prec >= N:\n",
    "                raise MaxIterations(\"Alcanzado máximo número de iteraciones.\")\n",
    "            \n",
    "            # Intervalo derecho\n",
    "            i += 1\n",
    "            if i >= len(ai): # A veces hay que ampliar la lista\n",
    "                ai.append(ai_prec + hi_prec)\n",
    "                fai.append(fci_prec)\n",
    "                fci.append(fe)\n",
    "                fbi.append(fbi_prec)\n",
    "                hi.append(hi_prec/2)\n",
    "                toli.append(toli_prec/2)\n",
    "                S0i.append(S2)\n",
    "                Li.append(Li_prec + 1)\n",
    "            else:\n",
    "                ai[i] = ai_prec + hi_prec\n",
    "                fai[i] = fci_prec\n",
    "                fci[i] = fe\n",
    "                fbi[i] = fbi_prec\n",
    "                hi[i] = hi_prec/2\n",
    "                toli[i] = toli_prec/2\n",
    "                S0i[i] = S2\n",
    "                Li[i] = Li_prec + 1\n",
    "                \n",
    "            # Intervalo izquierdo\n",
    "            i += 1\n",
    "            if i >= len(ai):\n",
    "                ai.append(ai_prec)\n",
    "                fai.append(fai_prec)\n",
    "                fci.append(fd)\n",
    "                fbi.append(fci_prec)\n",
    "                hi.append(hi[i-1])\n",
    "                toli.append(toli[i-1])\n",
    "                S0i.append(S1)\n",
    "                Li.append(Li[i-1])\n",
    "            else:\n",
    "                ai[i] = ai_prec\n",
    "                fai[i] = fai_prec\n",
    "                fci[i] = fd\n",
    "                fbi[i] = fci_prec\n",
    "                hi[i] = hi[i-1]\n",
    "                toli[i] = toli[i-1]\n",
    "                S0i[i] = S1\n",
    "                Li[i] = Li[i-1]\n",
    "                \n",
    "    return approx"
   ]
  },
  {
   "cell_type": "markdown",
   "id": "16db7dfb",
   "metadata": {},
   "source": [
    "Como la función $ p(x) = \\sin x + n(x) $ posee una parte constante que es $ n(x) $ podemos separar la integral y calcularlo de manera separada. Además como  $n (x) $ al ser definido como una constante, el valor de la integral da como resultado 1.\n",
    "\n",
    "Luego desarrolamos la otra parte de la función:"
   ]
  },
  {
   "cell_type": "code",
   "execution_count": 161,
   "id": "4f0b78f3",
   "metadata": {},
   "outputs": [
    {
     "data": {
      "text/plain": [
       "0.45969831879846146"
      ]
     },
     "execution_count": 161,
     "metadata": {},
     "output_type": "execute_result"
    }
   ],
   "source": [
    "c_adaptativa(np.sin, 0, 1, 10**(-5))"
   ]
  },
  {
   "cell_type": "markdown",
   "id": "4c802aef",
   "metadata": {},
   "source": [
    "Por tanto el valor queda de la forma $$ 1 - 0.45969831879846146 \\approx 1 - cos (1)$$\n",
    "\n",
    "\n",
    "\n",
    "Para calcular el error en la medición usamos la definición: \n",
    "$$\n",
    "\\frac{|Valor \\ Teórico - Valor \\ obtenido|}{Valor \\ Teórico}\n",
    "$$"
   ]
  },
  {
   "cell_type": "markdown",
   "id": "d99904d4",
   "metadata": {},
   "source": [
    "Podemos calcular el valor obtenido cambiando el valor de la tolerancia para luego graficarlo"
   ]
  },
  {
   "cell_type": "code",
   "execution_count": 171,
   "id": "3bd8f8fe",
   "metadata": {},
   "outputs": [],
   "source": [
    "error = abs((0.45969769413186028 - 0.45969831879846146)/0.45969769413186028)"
   ]
  },
  {
   "cell_type": "markdown",
   "id": "009e3500",
   "metadata": {},
   "source": [
    "Para conocer el error en porcentaje, multiplicamos el resultado anterior y obtenemos:"
   ]
  },
  {
   "cell_type": "code",
   "execution_count": 163,
   "id": "294abf05",
   "metadata": {},
   "outputs": [],
   "source": [
    "e_final = error*100"
   ]
  },
  {
   "cell_type": "code",
   "execution_count": 164,
   "id": "795b9f44",
   "metadata": {},
   "outputs": [
    {
     "name": "stdout",
     "output_type": "stream",
     "text": [
      "El error cometido con una tolerancia de 10^-5 es: 0.00013588638993446812 %\n"
     ]
    }
   ],
   "source": [
    "print('El error cometido con una tolerancia de 10^-5 es:', e_final, '%')"
   ]
  },
  {
   "cell_type": "markdown",
   "id": "c0ba4b41",
   "metadata": {},
   "source": [
    "Para calcular el error con una tolerancia de $10^{-7}$ repetimos el procedimiento anterior, pero cambiando la tolerancia\n"
   ]
  },
  {
   "cell_type": "code",
   "execution_count": 165,
   "id": "426c09c6",
   "metadata": {},
   "outputs": [
    {
     "data": {
      "text/plain": [
       "0.4596977331190459"
      ]
     },
     "execution_count": 165,
     "metadata": {},
     "output_type": "execute_result"
    }
   ],
   "source": [
    "c_adaptativa(np.sin, 0, 1, 10**(-7))"
   ]
  },
  {
   "cell_type": "code",
   "execution_count": 166,
   "id": "ef40dd92",
   "metadata": {},
   "outputs": [],
   "source": [
    "V_f = [0.4596977331190459]"
   ]
  },
  {
   "cell_type": "code",
   "execution_count": 167,
   "id": "d72dd183",
   "metadata": {},
   "outputs": [],
   "source": [
    "error7 = abs((0.45969831879846146 - 0.4596977331190459)/0.45969769413186028)\n",
    "e_final7 = error7*100"
   ]
  },
  {
   "cell_type": "code",
   "execution_count": 168,
   "id": "87c81fb5",
   "metadata": {},
   "outputs": [
    {
     "name": "stdout",
     "output_type": "stream",
     "text": [
      "El error cometido con una tolerancia de 10^-7 es: 0.00012740534117379067 %\n"
     ]
    }
   ],
   "source": [
    "print('El error cometido con una tolerancia de 10^-7 es:', e_final7, '%')"
   ]
  },
  {
   "cell_type": "markdown",
   "id": "4a1fe96f",
   "metadata": {},
   "source": [
    "Luego realizamos el gráfico con el valor obtenido comparando ambos resultados"
   ]
  },
  {
   "cell_type": "code",
   "execution_count": null,
   "id": "662cedb5",
   "metadata": {},
   "outputs": [],
   "source": []
  }
 ],
 "metadata": {
  "kernelspec": {
   "display_name": "Python 3 (ipykernel)",
   "language": "python",
   "name": "python3"
  },
  "language_info": {
   "codemirror_mode": {
    "name": "ipython",
    "version": 3
   },
   "file_extension": ".py",
   "mimetype": "text/x-python",
   "name": "python",
   "nbconvert_exporter": "python",
   "pygments_lexer": "ipython3",
   "version": "3.9.6"
  }
 },
 "nbformat": 4,
 "nbformat_minor": 5
}
