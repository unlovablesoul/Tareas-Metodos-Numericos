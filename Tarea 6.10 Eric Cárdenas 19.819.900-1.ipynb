{
 "cells": [
  {
   "cell_type": "markdown",
   "id": "8d662be4",
   "metadata": {},
   "source": [
    "### Tarea 6.10 Eric Cárdenas 19.918.900-1\n"
   ]
  },
  {
   "cell_type": "markdown",
   "id": "049fee5f",
   "metadata": {},
   "source": [
    "Encuentre una aproximación numérica para  (31)1/3  usando el método de bisección. Grafique el tiempo requerido para ese cálculo en función del error relativo. Escoja errores relativos muy pequeños para que el computador tarde un tiempo moderado en el cálculo.\n"
   ]
  },
  {
   "cell_type": "code",
   "execution_count": 1,
   "id": "e79486e6",
   "metadata": {},
   "outputs": [
    {
     "data": {
      "image/png": "[encoded data removed]",
      "text/plain": [
       "<Figure size 432x288 with 1 Axes>"
      ]
     },
     "metadata": {
      "needs_background": "light"
     },
     "output_type": "display_data"
    }
   ],
   "source": [
    "import numpy as np\n",
    "import matplotlib.pyplot as plt\n",
    "from time import time\n",
    "\n",
    "def f(x):\n",
    "    return (31**(1/3) - x)*(31**(1/3) + x) #Defino una suma por diferencia para hacer una aproximación mas cercana.\n",
    "\n",
    "#al graficar la función que utilizaré, el valor buscado se aproxima de mejor manera\n",
    "\n",
    "y = np.linspace(0, 3.2,100)\n",
    "plt.plot(y, f(y))\n",
    "plt.xlabel(\"variable independiente\")\n",
    "plt.ylabel(\"Variable dependiente\")\n",
    "plt.title (\"Aproximación numérica\")\n",
    "\n",
    "#definamos el metodo de biseccion\n",
    "def biseccion(f,a,b,  epsilon , N=1000000):\n",
    "    \n",
    "    inicio = time()\n",
    "    for i in range(N):\n",
    "        p = p = a + (b - a)/2\n",
    "        error = (abs(p - (31)**(1/3))/((31)**(1/3)))\n",
    "        if abs(error) < epsilon:\n",
    "            \n",
    "            fin = time() # tiempo final\n",
    "\n",
    "            return p,error,fin - inicio  # retornamos el valor del error relativo y del tiempo que se demora.\n",
    "\n",
    "        elif f(p)*f(a) > 0:\n",
    "            a = p\n",
    "        else:\n",
    "            b = p\n",
    "            \n",
    "    print(\"No se encontró el cero después de\", N, \"iteraciones.\")\n"
   ]
  },
  {
   "cell_type": "code",
   "execution_count": 2,
   "id": "d0916223",
   "metadata": {},
   "outputs": [],
   "source": [
    "x = [biseccion(f, 0, 3.2,  10**(-2-i), N=100000)  for i in range(11)]"
   ]
  },
  {
   "cell_type": "markdown",
   "id": "20330a66",
   "metadata": {},
   "source": [
    "#### Defino mis variables"
   ]
  },
  {
   "cell_type": "code",
   "execution_count": 7,
   "id": "bc2a214f",
   "metadata": {},
   "outputs": [],
   "source": [
    "p = [x[i][0] for i in range(len(x))] #Aproximación\n",
    "e_rel = [x[i][1]for i in range(len(x))] #Error relativo\n",
    "t = [x[i][2]for i in range(len(x))] #Tiempo que toma el codigo"
   ]
  },
  {
   "cell_type": "markdown",
   "id": "d6e9cd26",
   "metadata": {},
   "source": [
    "#### Ahora que tengo mis variables, procedo a realizar el gráfico\n"
   ]
  },
  {
   "cell_type": "code",
   "execution_count": null,
   "id": "7a847f2a",
   "metadata": {},
   "outputs": [],
   "source": [
    "plt.ylabel(\"Tiempo\")\n",
    "plt.xlabel(\"Error relativo\")\n",
    "plt.title(\"Tiempo en función del Error relativo\")\n",
    "plt.ylim(10**(-6),10**(-3))\n",
    "plt.scatter(e_rel,t)\n",
    "plt.loglog(e_rel,t)\n",
    "plt.show()"
   ]
  }
 ],
 "metadata": {
  "kernelspec": {
   "display_name": "Python 3 (ipykernel)",
   "language": "python",
   "name": "python3"
  },
  "language_info": {
   "codemirror_mode": {
    "name": "ipython",
    "version": 3
   },
   "file_extension": ".py",
   "mimetype": "text/x-python",
   "name": "python",
   "nbconvert_exporter": "python",
   "pygments_lexer": "ipython3",
   "version": "3.9.6"
  }
 },
 "nbformat": 4,
 "nbformat_minor": 5
}
