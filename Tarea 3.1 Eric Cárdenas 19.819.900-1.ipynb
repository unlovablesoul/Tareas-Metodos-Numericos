{
 "cells": [
  {
   "cell_type": "markdown",
   "id": "c0319351",
   "metadata": {},
   "source": [
    "## Tarea 3.1 Eric Cárdenas 19.819.900-1"
   ]
  },
  {
   "cell_type": "markdown",
   "id": "637af73f",
   "metadata": {},
   "source": [
    "Escriba su propio código que calcule la desviación estándar de las notas del curso experimental usado en el ejemplo anterior, sin usar ninguna librería (no puede usar numpy.std, numpy.mean, ni otras funciones equivalentes de otra librería numérica)."
   ]
  },
  {
   "cell_type": "code",
   "execution_count": 12,
   "id": "06477791",
   "metadata": {},
   "outputs": [
    {
     "name": "stdout",
     "output_type": "stream",
     "text": [
      "Desviacion Estandar :  25.818938785318036\n"
     ]
    }
   ],
   "source": [
    "import numpy as np\n",
    "\n",
    "\n",
    "def varianza(datos):  \n",
    "    c_datos = len(datos)\n",
    "    s = 0 #Defino una sumatoria de Xi\n",
    "    for x in datos:\n",
    "        s += x\n",
    "    #print(\"Promedio : \" , s/c_datos)\n",
    "    #print(np.mean(notas[:,2]))\n",
    "    m = s/c_datos #promedio\n",
    "    s = 0\n",
    "    for y in datos:\n",
    "        s += (y - m)**2\n",
    "    v = s/c_datos #Varianza\n",
    "    #print (\"Varianza : \" ,v)\n",
    "    #print (datos.var())\n",
    "    #print(np.sqrt(v))\n",
    "    #print(v(1/2))\n",
    "    return v**(1/2)\n",
    "\n",
    "\n",
    "#Utilicé las bibliotecas para comprobar si lo que he escrito esté de manera correcta.\n",
    "\n",
    "\n",
    "\n",
    "notas = np.array(\n",
    "[[100, 100, 93.0],\n",
    " [53.0, 60.0, 37.0],\n",
    " [42.0, 35.0, 89.0],\n",
    " [57.0, 54.0, 37.0],\n",
    " [77.0, 66.0, 53.0],\n",
    " [23.0, 26.0, 55.0],\n",
    " [97.0, 78.0, 68.0],\n",
    " [65.0, 45.0, 69.0],\n",
    " [74.0, 74.0, 84.0],\n",
    " [39.0, 44.0, 78.0],\n",
    " [95.0, 94.0, 25.0],\n",
    " [95.0, 74.0, 60.0],\n",
    " [77.0, 67.0, 17.0],\n",
    " [52.0, 47.0, 49.0],\n",
    " [66.0, 52.0, 27.0],\n",
    " [74.0, 63.0, 47.0],\n",
    " [79.0, 59.0, 13.0],\n",
    " [60.0, 40.0, 92.0],\n",
    " [80.0, 69.0, 36.0],\n",
    " [74.0, 44.0, 82.0],\n",
    " [100, 77.0, 7.0],\n",
    " [30.0, 23.0, 14.0],\n",
    " [96.0, 78.0, 57.0],\n",
    " [60.0, 81.0, 2.0],\n",
    " [57.0, 60.0, 29.0],\n",
    " [72.0, 88.0, 25.0],\n",
    " [44.0, 48.0, 58.0],\n",
    " [57.0, 53.0, 89.0],\n",
    " [58.0, 66.0, 31.0],\n",
    " [54.0, 48.0, 27.0],\n",
    " [58.0, 39.0, 86.0],\n",
    " [62.0, 55.0, 67.0],\n",
    " [54.0, 54.0, 66.0],\n",
    " [74.0, 70.0, 89.0],\n",
    " [60.0, 73.0, 39.0],\n",
    " [58.0, 74.0, 81.0],\n",
    " [50.0, 67.0, 52.0],\n",
    " [55.0, 50.0, 60.0],\n",
    " [91.0, 89.0, 70.0],\n",
    " [50.0, 55.0, 100],\n",
    " [47.0, 83.0, 51.0],\n",
    " [100, 100, 32.0],\n",
    " [53.0, 59.0, 72.0],\n",
    " [7.0, 39.0, 95.0],\n",
    " [73.0, 68.0, 76.0],\n",
    " [92.0, 100.0, 83.0],\n",
    " [81.0, 82.0, 66.0],\n",
    " [99.0, 88.0, 80.0],\n",
    " [79.0, 98.0, 48.0],\n",
    " [71.0, 45.0, 53.0]])\n",
    "\n",
    "\n",
    "\n",
    "print(\"Desviacion Estandar : \",varianza(notas[:,2]))\n",
    "\n",
    "#Para calcular la desviación estandar para los otros valores, sólo es necesario cambiar el valor de \"notas[:,] entre 0 y 2\""
   ]
  },
  {
   "cell_type": "code",
   "execution_count": null,
   "id": "ed076a57",
   "metadata": {},
   "outputs": [],
   "source": []
  }
 ],
 "metadata": {
  "kernelspec": {
   "display_name": "Python 3 (ipykernel)",
   "language": "python",
   "name": "python3"
  },
  "language_info": {
   "codemirror_mode": {
    "name": "ipython",
    "version": 3
   },
   "file_extension": ".py",
   "mimetype": "text/x-python",
   "name": "python",
   "nbconvert_exporter": "python",
   "pygments_lexer": "ipython3",
   "version": "3.9.6"
  }
 },
 "nbformat": 4,
 "nbformat_minor": 5
}
