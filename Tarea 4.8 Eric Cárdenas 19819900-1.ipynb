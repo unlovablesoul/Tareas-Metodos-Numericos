{
 "cells": [
  {
   "cell_type": "markdown",
   "id": "40a6b8f8",
   "metadata": {},
   "source": [
    "## Tarea 4.8 Eric Cárdenas 19819900-1"
   ]
  },
  {
   "cell_type": "markdown",
   "id": "aef82d6c",
   "metadata": {},
   "source": [
    "Un colega le entrega a usted archivos de texto con los resultados de una simulación (simulacion.txt). Este archivo contiene tres columnas separadas por espacios tal que cada fila es un dato y las tres columnas son tres propiedades simuladas de ese dato.\n",
    "\n",
    "Escriba una función que lea ese archivo de texto y lo vuelva a guardar en un archivo simulacion.hd5 con tres datasets correspondientes a las tres propiedades de cada dato.\n",
    "\n",
    "Como usted quiere reutilizar esta función para cualquier otro archivo con tres columnas, la función debe tomar el nombre del archivo de texto y el nombre deseado para el nuevo archivo hd5 como argumentos."
   ]
  },
  {
   "cell_type": "code",
   "execution_count": null,
   "id": "db88394f",
   "metadata": {},
   "outputs": [],
   "source": [
    "import h5py\n",
    "\n",
    "def procesar(nombre_archivo,nuevo_archivo):\n",
    "    with open(nombre_archivo+'.txt', 'r') as file:\n",
    "        with h5py.File(nuevo_archivo+'.hd5', 'w') as texto:\n",
    "            dataset1,dataset2,dataset3 =[],[],[]\n",
    "            for a in file:\n",
    "                datos = a.split(\" \")\n",
    "                dataset1.append(float(datos[0]))\n",
    "                dataset2.append(float(datos[1]))\n",
    "                dataset3.append(float(datos[2]))  \n",
    "            datos0 = texto.create_dataset('datos1', data=dataset1)\n",
    "            datos1 = texto.create_dataset('datos2', data=dataset2)\n",
    "            datos2 = texto.create_dataset('datos3', data=dataset3)\n",
    "        \n",
    "\n",
    "nombre_archivo = input(\"Ingrese el nombre del archivo a procesar (solo el nombre del archivo) : \")\n",
    "nuevo_archivo = input(\"Ingrese el nombre del archivo a crear (solo el nombre del archivo) : \")\n",
    "procesar(nombre_archivo,nuevo_archivo)\n",
    "\n",
    "with h5py.File(nuevo_archivo+'.hd5', 'r') as file:\n",
    "    d1 = file['datos1']\n",
    "    d2 = file['datos2']\n",
    "    d3 = file['datos3']\n",
    "    \n",
    "    #print(d1[:])\n",
    "    #print(d2[:])\n",
    "    #print(d3[:]) \n",
    "#Los print anteriores fueron utilizados para validar las datas"
   ]
  },
  {
   "cell_type": "code",
   "execution_count": null,
   "id": "e99c5312",
   "metadata": {},
   "outputs": [],
   "source": []
  }
 ],
 "metadata": {
  "kernelspec": {
   "display_name": "Python 3 (ipykernel)",
   "language": "python",
   "name": "python3"
  },
  "language_info": {
   "codemirror_mode": {
    "name": "ipython",
    "version": 3
   },
   "file_extension": ".py",
   "mimetype": "text/x-python",
   "name": "python",
   "nbconvert_exporter": "python",
   "pygments_lexer": "ipython3",
   "version": "3.9.6"
  }
 },
 "nbformat": 4,
 "nbformat_minor": 5
}
